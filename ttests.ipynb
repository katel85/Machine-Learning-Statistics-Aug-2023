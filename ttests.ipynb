{
 "cells": [
  {
   "cell_type": "markdown",
   "id": "9839b634-f7ed-48d2-8418-52e0d1ea3168",
   "metadata": {},
   "source": [
    "A paired samples t-test is used to compare the means of two samples when each observation in one sample can be paired with an observation in the other sample.\n",
    "\n",
    "\n",
    "What is a Paired T Test?\n",
    "Use a paired t-test when each subject has a pair of measurements, such as a before and after score. A paired t-test determines whether the mean change for these pairs is significantly different from zero. This test is an inferential statistics procedure because it uses samples to draw conclusions about populations.\n",
    "\n",
    "Paired t tests are also known as a paired sample t-test or a dependent samples t test. These names reflect the fact that the two samples are paired or dependent because they contain the same subjects. Conversely, an independent samples t test contains different subjects in the two samples.\n",
    "\n",
    "Perhaps you have a sample of wood boards, and you paint half of each board with one paint and the other half with the other paint. Then, you measure the paint durability for both types of paint on all the boards. Each board has two paint durability scores, and you want to determine whether the two paints have different durability."
   ]
  },
  {
   "cell_type": "code",
   "execution_count": null,
   "id": "d0fe5335-be8c-45b8-a84a-803692d66bbd",
   "metadata": {},
   "outputs": [],
   "source": []
  },
  {
   "cell_type": "code",
   "execution_count": null,
   "id": "9d6c61cc-617a-447a-ab2b-9b9a4acb62a6",
   "metadata": {},
   "outputs": [],
   "source": []
  },
  {
   "cell_type": "code",
   "execution_count": null,
   "id": "15d14951-7a7a-4818-a6db-c1164b0c706c",
   "metadata": {},
   "outputs": [],
   "source": []
  },
  {
   "cell_type": "code",
   "execution_count": null,
   "id": "012ee18c-234d-429e-9869-b416ef03a4b8",
   "metadata": {},
   "outputs": [],
   "source": []
  },
  {
   "cell_type": "code",
   "execution_count": null,
   "id": "261a8adf-a9b9-4138-94f0-3f3b12655535",
   "metadata": {},
   "outputs": [],
   "source": []
  },
  {
   "cell_type": "code",
   "execution_count": null,
   "id": "cf37c22e-a108-45ac-a59c-20fddd0a96b3",
   "metadata": {},
   "outputs": [],
   "source": []
  },
  {
   "cell_type": "code",
   "execution_count": null,
   "id": "db1e813c-29c3-4134-934b-08e766c31480",
   "metadata": {},
   "outputs": [],
   "source": []
  },
  {
   "cell_type": "code",
   "execution_count": null,
   "id": "0662fd8d-eb76-4ea5-9127-960319873c9a",
   "metadata": {},
   "outputs": [],
   "source": []
  },
  {
   "cell_type": "code",
   "execution_count": null,
   "id": "a1813699-8355-42a5-9aec-b6e101811ecd",
   "metadata": {},
   "outputs": [],
   "source": []
  },
  {
   "cell_type": "markdown",
   "id": "3e7344b1-9856-4d17-990c-18daac52a164",
   "metadata": {},
   "source": [
    "# References:\n",
    "\n",
    "https://statisticsbyjim.com/hypothesis-testing/paired-t-test/"
   ]
  }
 ],
 "metadata": {
  "kernelspec": {
   "display_name": "Python 3",
   "language": "python",
   "name": "python3"
  },
  "language_info": {
   "codemirror_mode": {
    "name": "ipython",
    "version": 3
   },
   "file_extension": ".py",
   "mimetype": "text/x-python",
   "name": "python",
   "nbconvert_exporter": "python",
   "pygments_lexer": "ipython3",
   "version": "3.8.8"
  }
 },
 "nbformat": 4,
 "nbformat_minor": 5
}
