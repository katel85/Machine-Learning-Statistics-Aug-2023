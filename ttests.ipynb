{
 "cells": [
  {
   "cell_type": "markdown",
   "id": "9839b634-f7ed-48d2-8418-52e0d1ea3168",
   "metadata": {},
   "source": [
    "# Origins of the T-Test (St)\n",
    "\n",
    "William Sealy Gosset (13 June 1876 – 16 October 1937) was an English statistician, chemist and brewer who served as Head Brewer of Guinness and Head Experimental Brewer of Guinness and was a pioneer of modern statistics.\n",
    "\n",
    "In October 1899, Gosset became a Brewer with Arthur Guinness, Son & Co. Ltd, manufacturersofstout at the St James’s Gate Brewery in Dublin, and he remained with the firm for the whole of his working life. Guinness had recently decided to introduce scientific methods into brewing, and the new policy was effected by appointing men with First Class science degrees at\n",
    "Oxford and Cambridge to positions in junior management.\n",
    "\n",
    "Gosset was a practical man,and his statistical methods were developed in response to the needs of the brewery. Research work at Guinness on the selection, cultivation, and treatment of barley and hops led to an accumulation of data affected by variability of materials, susceptibility to temperature change, and necessarily short series of experiments. The problems of interpretation posed by small samples in which the measurements were not independent soon became apparent, and the Brewers found that Gosset was ready to help in analysing the data. At this stage, his advice was based on consulting books concerned with the theory of errors, in particular Airy’s Theory of errors of observations and Merriman’s Method of least squares. Gosset’s advisory work formed the backgroundto his report to the Board of Guinness in November 1904 on ‘The application of the “law of error” to the work of the brewery’.Here, he set out the case for using statistical methods, discussed the error\n",
    "curve,! applied results on the addition or subtraction of random variables,and by comparing the difference between =(A+ B)? and X(A—B)*? showed some awareness of the consequencesof correlation. The summary of the report included a suggestion that questions concerning ‘the degree of probability to be accepted as proving various propositions’ should be referred to a mathematician. Soon afterwards, the introduction of Gosset to Pearson was effected throughaletter from Vernon Harcourt, an Oxford chemistrylecturer, and arrangements were made for Gosset and Pearson to meet. The meeting took place on 12 July 1905, when Pearson wasspending his long vacationin a houseatEast Isley in Berkshire, which he had rented from July to September to be within cycling distance of Weldon in Oxford. Gosset _ was on holiday in the house to which his father had retired at Watlington in Oxfordshire, about twenty miles from EastIlsley, and he cycled overto discuss a list of questions concerned with thecost effectiveness of experiments,limits of error from repeated measurements, howto establish a relationship between\n",
    "sets of observations, and what books would be useful. Pearson’s notes for the interview include formulae for the variance of A+ B and the probable error of a correlation coefficient, and references to papers on the theoryofstatistics.\n",
    "After Pearson's death in 1936, Gosset wrote? about this interview to Egon earson. (2)\n"
   ]
  },
  {
   "cell_type": "markdown",
   "id": "0884dcda-ed72-4a6d-9631-5734458b9291",
   "metadata": {},
   "source": [
    "### What is the t-test and what is it used for.\n",
    "\n",
    "In today's data-driven world, businesses can't rely on intuition alone to make critical decisions. Instead, they need to use statistical techniques like hypothesis testing to back up their actions with solid data. One popular test for this purpose is the t-test, which allows you to compare the means of two groups and determine whether they're statistically different.\n"
   ]
  },
  {
   "cell_type": "markdown",
   "id": "1362af22-209d-4376-a082-d7e46d274362",
   "metadata": {},
   "source": [
    "A paired samples t-test is used to compare the means of two samples when each observation in one sample can be paired with an observation in the other sample.\n",
    "\n",
    "\n",
    "What is a Paired T Test?\n",
    "Use a paired t-test when each subject has a pair of measurements, such as a before and after score. A paired t-test determines whether the mean change for these pairs is significantly different from zero. This test is an inferential statistics procedure because it uses samples to draw conclusions about populations.\n",
    "\n",
    "Paired t tests are also known as a paired sample t-test or a dependent samples t test. These names reflect the fact that the two samples are paired or dependent because they contain the same subjects. Conversely, an independent samples t test contains different subjects in the two samples.\n",
    "\n",
    "Perhaps you have a sample of wood boards, and you paint half of each board with one paint and the other half with the other paint. Then, you measure the paint durability for both types of paint on all the boards. Each board has two paint durability scores, and you want to determine whether the two paints have different durability.(1)"
   ]
  },
  {
   "cell_type": "markdown",
   "id": "ecb1f778-be2e-40c3-b284-26cbc686f1da",
   "metadata": {},
   "source": [
    "### What is the t-test and what is it used for.\n",
    "\n"
   ]
  },
  {
   "cell_type": "code",
   "execution_count": null,
   "id": "524ecfef-120e-49fc-8dc6-c797bda1da63",
   "metadata": {},
   "outputs": [],
   "source": []
  },
  {
   "cell_type": "code",
   "execution_count": null,
   "id": "5e3cef87-a514-47b0-bad0-e2f847568be0",
   "metadata": {},
   "outputs": [],
   "source": []
  },
  {
   "cell_type": "code",
   "execution_count": null,
   "id": "1c21f533-a5f2-4a19-92a3-c2ca0a60eaba",
   "metadata": {},
   "outputs": [],
   "source": [
    "# import libraries needed for calculations\n",
    "import scipy.stats as stats\n",
    "import pandas as pd\n",
    "import numpy as np\n",
    "import seaborn as sns\n",
    "import matplotlib.pyplot as plt\n",
    "import glob\n"
   ]
  },
  {
   "cell_type": "code",
   "execution_count": null,
   "id": "c7c1e7f3-3552-42c9-950e-3ff468e2f12f",
   "metadata": {},
   "outputs": [],
   "source": []
  },
  {
   "cell_type": "code",
   "execution_count": null,
   "id": "1a1c8dde-12c6-4d71-a58a-a0c3334fc9ad",
   "metadata": {},
   "outputs": [],
   "source": []
  },
  {
   "cell_type": "code",
   "execution_count": null,
   "id": "b27fe3c9-fc6b-4971-99e8-781ac87012c2",
   "metadata": {},
   "outputs": [],
   "source": []
  },
  {
   "cell_type": "code",
   "execution_count": null,
   "id": "c458deb5-a3ad-40ed-b4cb-079ffddfd13c",
   "metadata": {},
   "outputs": [],
   "source": []
  },
  {
   "cell_type": "code",
   "execution_count": null,
   "id": "d0fe5335-be8c-45b8-a84a-803692d66bbd",
   "metadata": {},
   "outputs": [],
   "source": []
  },
  {
   "cell_type": "code",
   "execution_count": null,
   "id": "9d6c61cc-617a-447a-ab2b-9b9a4acb62a6",
   "metadata": {},
   "outputs": [],
   "source": []
  },
  {
   "cell_type": "code",
   "execution_count": null,
   "id": "15d14951-7a7a-4818-a6db-c1164b0c706c",
   "metadata": {},
   "outputs": [],
   "source": []
  },
  {
   "cell_type": "code",
   "execution_count": null,
   "id": "012ee18c-234d-429e-9869-b416ef03a4b8",
   "metadata": {},
   "outputs": [],
   "source": []
  },
  {
   "cell_type": "code",
   "execution_count": null,
   "id": "261a8adf-a9b9-4138-94f0-3f3b12655535",
   "metadata": {},
   "outputs": [],
   "source": []
  },
  {
   "cell_type": "code",
   "execution_count": null,
   "id": "cf37c22e-a108-45ac-a59c-20fddd0a96b3",
   "metadata": {},
   "outputs": [],
   "source": []
  },
  {
   "cell_type": "code",
   "execution_count": null,
   "id": "db1e813c-29c3-4134-934b-08e766c31480",
   "metadata": {},
   "outputs": [],
   "source": []
  },
  {
   "cell_type": "code",
   "execution_count": null,
   "id": "0662fd8d-eb76-4ea5-9127-960319873c9a",
   "metadata": {},
   "outputs": [],
   "source": []
  },
  {
   "cell_type": "code",
   "execution_count": null,
   "id": "a1813699-8355-42a5-9aec-b6e101811ecd",
   "metadata": {},
   "outputs": [],
   "source": []
  },
  {
   "cell_type": "markdown",
   "id": "3e7344b1-9856-4d17-990c-18daac52a164",
   "metadata": {},
   "source": [
    "# References:\n",
    "\n",
    "1. https://statisticsbyjim.com/hypothesis-testing/paired-t-test/\n",
    "\n",
    "2. A Statistical Biography of William Sealy Gosset https://gwern.net/doc/statistics/decision/1990-pearson-studentastatisticalbiographyofwilliamsealygosset.pdf\n",
    "\n",
    "3. Student's t-test https://www.youtube.com/watch?v=pTmLQvMM-1M\n",
    "\n",
    "4. All About t-Tests (one sample, independent, & paired sample) https://www.youtube.com/watch?v=rK3mXS3gHyI&t=177s\n",
    "\n",
    "5. How to use Python to Perform a Paired Sample T-test https://www.marsja.se/how-to-use-python-to-perform-a-paired-sample-t-test/\n",
    "\n",
    "6. How to Conduct a Two Sample T-Test in Python https://www.geeksforgeeks.org/how-to-conduct-a-two-sample-t-test-in-python/\n",
    "\n",
    "7. Python - Paired Samples t-Test https://www.youtube.com/watch?v=DZyDbEzaiK0\n",
    "\n",
    "8. Learn How to Perform T-test using Python https://www.youtube.com/watch?v=ZR6bf8_s-hw\n",
    "\n",
    "9. How to use Python to do Paired Sample T-test - SciPy, Pandas, and Pingouin https://www.bing.com/videos/search?q=scipy+t-tests&&view=detail&mid=2A20DA19C6DD858D6D302A20DA19C6DD858D6D30&&FORM=VRDGAR&ru=%2Fvideos%2Fsearch%3Fq%3Dscipy%2Bt-tests%26FORM%3DHDRSC6\n",
    "\n",
    "10. Basic Statistics in Python: t tests with SciPy https://neuraldatascience.io/5-eda/ttests.html\n",
    "\n",
    "11. Taking on T-Tests with SciPy https://medium.com/analytics-vidhya/taking-on-t-tests-with-scipy-b05eaaa0ee52\n",
    "\n",
    "12. PYTHON FOR DATA SCIENCE https://www.pythonfordatascience.org/independent-samples-t-test-python/\n",
    "\n",
    "13. SciPy – Statistical Significance Tests https://www.geeksforgeeks.org/scipy-statistical-significance-tests/\n",
    "\n",
    "14. scipy.stats.ttest_ind https://docs.scipy.org/doc/scipy/reference/generated/scipy.stats.ttest_ind.html\n",
    "\n",
    "15. SciPy Statistical Significance Tests \n",
    "\n",
    "16. Practice t-tests with these free online datasets https://stringfestanalytics.com/t-test-dataset-practice-guide/\n",
    "\n",
    "17. Student's t-test (Paired and Unpaired) - A Level Biology https://www.youtube.com/watch?v=k_OhNaQCSTc\n",
    "\n",
    "\n",
    "\n",
    "\n"
   ]
  }
 ],
 "metadata": {
  "kernelspec": {
   "display_name": "Python 3",
   "language": "python",
   "name": "python3"
  },
  "language_info": {
   "codemirror_mode": {
    "name": "ipython",
    "version": 3
   },
   "file_extension": ".py",
   "mimetype": "text/x-python",
   "name": "python",
   "nbconvert_exporter": "python",
   "pygments_lexer": "ipython3",
   "version": "3.8.8"
  }
 },
 "nbformat": 4,
 "nbformat_minor": 5
}
