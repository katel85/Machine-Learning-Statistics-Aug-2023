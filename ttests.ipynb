{
 "cells": [
  {
   "cell_type": "markdown",
   "id": "9839b634-f7ed-48d2-8418-52e0d1ea3168",
   "metadata": {},
   "source": [
    "# The strange origins of the Student’s t-test\n",
    "\n",
    "\n",
    "William Sealy Gosset (13 June 1876 – 16 October 1937) was an English statistician, chemist and brewer who served as Head Brewer of Guinness and Head Experimental Brewer of Guinness and was a pioneer of modern statistics.\n",
    "\n",
    "Gosset’s academic background may seem at odds with his employment as a brewer, but Guinness realized around this time that in order to maintain its dominant market share as the biggest brewer in Ireland, it would have to introduce brewing on a carefully controlled industrial scale. Such a venture would require rigorous quality control; hence the requirement for university trained chemists and statisticians. As any amateur brewer will attest, the brewing of beer has an element of the unknown, with success being not only dependent on the correct procedure, but also an element of luck! It was this reliance on luck for a successful product that Guinness sought to eliminate by scientific procedure. Beer, of course, is a combination of natural products; malted barley, hops and yeast, all mixed with water. These natural products share an inherent variability common to all agricultural products, whose quality is dependent not only upon crop variety, but also on climate, soil conditions, etc. Gosset’s task as Apprentice Brewer was not only to assess the quality of these products, but also to do so in a cost effective manner. This necessitated using experiments with **small sample numbers** to draw conclusions that could be applied to the large scale brewing process. However, Gosset discovered that in using small samples the distribution of the means deviated from the normal distribution. He therefore could not use conventional statistical methods based upon a normal distribution to draw his conclusions.\n",
    "\n",
    "Thus the student t-test was formulated.The name Student apparently came from the cover of a notebook Gosset used at the time – The Student’s Science Notebook. In 1908 Gosset published a paper entitled \"The probable error of a mean\" in the journal Biometrica (Student, 1908). In his classic paper Gosset states that ‘any series of experiments is only of value is so far as it enables us to form a judgment as to the statistical content of the population to which the experiment belongs.\n",
    "\n",
    "In 1912 Gosset communicated with a young statistician, Ronald Fisher, who would have an enormous impact on the acceptance of Student’s distribution in day-to-day statistical analysis. Fisher is known today as one of the founding fathers of modern biostatistics, and he was not slow to appreciate Gosset’s contribution. Some years later In 1925 Fisher published a paper in which he fully derived the values of Student’s distribution, his final distribution being equivalent to the form given by Gosset in 1908, and clearly showing it as a transformed normal distribution. Fisher changed the nomenclature of the distribution from z, as it appeared in Gosset’s original paper, to t, and changed the distribution from n to (n – 1) or degrees of freedom (df). Fisher also transformed the layout of Student’s distribution to fit with his own agenda, namely to promote the use of probability as a determining factor in such calculations. In Fisher’s table the t value is expressed relative to p (probability) and df. Thus for a given df and desired probability the t value is located, and if this value is greater than the computed t value based on experimental data, then there is no significant difference in the data at that probability. This was certainly not how Gosset pictured his z distribution being used, but Fisher was an extremely eloquent and powerful advocate who rapidly came to dominate the field, and it the Fisher form of the calculation that we use today.\n",
    "\n",
    "In conclusion, physiologists (and many other experimental scientists) owe Gosset a debt of gratitude for rendering obsolete the reliance on large sample sizes to determine differences between groups of data. The t-distribution allows experimenters the freedom to use small sample sizes in the confidence that they are not compromising the validity of any conclusions drawn.\n",
    "\n",
    "Gossett is an unsung hero of 20th century statistics, made such an enormous advance in the field of statistics is almost certainly due to his application of theory to solve practical problems. In a letter to Fisher regarding his t distributions Gosset lamented that ‘you are the only man that’s ever likely to use them’. A browse through any issue of The Journal of Physiology will serve to illustrate the ubiquity of Student’s t test in the life sciences, and demonstrate just how unaware Gosset was of the revolutionary impact his work would have on all fields of biology and beyond.(2,3)\n",
    "\n",
    "\n",
    "\n",
    "\n",
    "\n",
    "\n",
    "\n",
    "\n",
    "\n",
    "\n",
    "\n",
    "\n",
    "\n",
    "\n",
    "\n",
    "\n"
   ]
  },
  {
   "cell_type": "markdown",
   "id": "0884dcda-ed72-4a6d-9631-5734458b9291",
   "metadata": {},
   "source": [
    "### How is the t-test used today.\n",
    "\n",
    "It is a type of inferential statistic used to study if there is a statistical difference between two groups. There are different types of t tests.\n",
    "\n",
    "### One Sample T-Test\n",
    "\n",
    "One sample T-Test tests if the given sample of observations could have been generated from a population with a specified mean. If it is found from the test that the means are statistically different, we infer that the sample is unlikely to have come from the population.It is used when you want to test if the mean of the population from which the sample is drawn is of a hypothesized value.\n",
    "\n",
    "\n",
    "A one-sample t-test always uses the following **null hypothesis**:\n",
    "\n",
    "**H0**: μ = μ0 (population mean is equal to some hypothesized value μ0)\n",
    "\n",
    "\n",
    "The **alternative hypothesis** can be either two-tailed, left-tailed, or right-tailed:\n",
    "\n",
    "**H1** (two-tailed): μ ≠ μ0 (population mean is not equal to some hypothesized value μ0)\n",
    "\n",
    "**H1** (left-tailed): μ < μ0 (population mean is less than some hypothesized value μ0)\n",
    "\n",
    "**H1** (right-tailed): μ > μ0 (population mean is greater than some hypothesized value μ0)\n",
    "\n",
    "\n",
    "\n",
    "\n",
    "\n"
   ]
  },
  {
   "attachments": {
    "0437e4bf-4138-4de0-b7c0-6cc691394f05.png": {
     "image/png": "[encoded data removed]"
    }
   },
   "cell_type": "markdown",
   "id": "5c828766-7b2c-4a1a-bbbe-d82bc77e56c8",
   "metadata": {},
   "source": [
    "![image.png](attachment:0437e4bf-4138-4de0-b7c0-6cc691394f05.png)"
   ]
  },
  {
   "cell_type": "code",
   "execution_count": 34,
   "id": "fb5d6716-8d3e-4bc9-b437-19d471cdf5eb",
   "metadata": {},
   "outputs": [],
   "source": [
    "# import libraries needed for calculations\n",
    "import scipy.stats as stats\n",
    "import pandas as pd\n",
    "import numpy as np\n",
    "\n",
    "import seaborn as sns\n",
    "import matplotlib.pyplot as plt\n",
    "import glob\n"
   ]
  },
  {
   "cell_type": "markdown",
   "id": "1362af22-209d-4376-a082-d7e46d274362",
   "metadata": {},
   "source": []
  },
  {
   "cell_type": "markdown",
   "id": "ecb1f778-be2e-40c3-b284-26cbc686f1da",
   "metadata": {},
   "source": [
    "### One sample t test example.\n",
    "\n",
    "You will compare a population mean with a specified value.\n",
    "\n",
    "A scientist wants to know if the mean diffusion of an antibiotic disc of a known organism is greater then 15 mm.\n",
    "\n",
    "Step 1: Define the Null and Alternate Hypothesis\n",
    "\n",
    "H0: x̅ = 15\n",
    "\n",
    "H1: x̅ > 15\n",
    "\n",
    "\n",
    "n = 12. Since this is one sample T test, the degree of freedom = n-1 = 12-1 = 11.\n",
    "\n",
    "Let’s set alpha = 0.05, to meet 95% confidence level.\n",
    "\n",
    "First we will create the data"
   ]
  },
  {
   "cell_type": "code",
   "execution_count": 35,
   "id": "524ecfef-120e-49fc-8dc6-c797bda1da63",
   "metadata": {},
   "outputs": [],
   "source": [
    "data = [14, 14, 16, 13, 12, 17, 15, 14, 15, 13, 15, 14]"
   ]
  },
  {
   "cell_type": "markdown",
   "id": "22a7d868-bd33-43d4-8870-6e175b70f458",
   "metadata": {},
   "source": [
    "Next, we’ll use the ttest_1samp() function from the scipy.stats library to conduct a one sample t-test, which uses the following syntax:\n",
    "\n",
    "**ttest_1samp(a, popmean)**\n",
    "\n",
    "where:\n",
    "\n",
    "**a**: an array of sample observations\n",
    "**popmean**: the expected population mean"
   ]
  },
  {
   "cell_type": "code",
   "execution_count": 36,
   "id": "89c184f0-b891-4523-b63e-c295d373e845",
   "metadata": {},
   "outputs": [
    {
     "data": {
      "text/plain": [
       "Ttest_1sampResult(statistic=-1.6848470783484626, pvalue=0.12014460742498101)"
      ]
     },
     "execution_count": 36,
     "metadata": {},
     "output_type": "execute_result"
    }
   ],
   "source": [
    "import scipy.stats as stats\n",
    "\n",
    "#perform one sample t-test\n",
    "stats.ttest_1samp(a=data, popmean=15)"
   ]
  },
  {
   "cell_type": "markdown",
   "id": "f9eeb95e-35a0-4d80-bd53-bb317eabb894",
   "metadata": {},
   "source": [
    "Confidence level = 0.95, alpha=0.05. For one tailed test, look under 0.05 column. For d.o.f = 12 – 1 = 11, T-Critical = 1.796.\n",
    "\n",
    "This value is seen in the T-Distribution Table. \n",
    "\n",
    "Now you might wonder why ‘One Tailed test’ was chosen. This is because of the way you define the alternate hypothesis. Had the null hypothesis simply stated that the sample means is not equal to 15, then we would have gone for a two tailed test.\n",
    "\n",
    "Interpretation of the values:\n",
    "\n",
    "Because the p-value of our test (0.1201) is greater than alpha = 0.05, we fail to reject the null hypothesis of the test. We do not have sufficient evidence to say that the mean diffusion for particular disc is different from 15 inches.\n",
    "\n"
   ]
  },
  {
   "cell_type": "markdown",
   "id": "ad7b8c0c-1d1e-4d4f-a494-3797e5df3364",
   "metadata": {},
   "source": [
    "### Two tailed one sample t-testing\n",
    "\n",
    "**Null Hypothesis**: the mean of a population is equal to 0.5\n",
    "\n",
    "**Alternative Hypothesis**: the mean of a population is  not equal to 0.5\n",
    "\n",
    "We choose a confidence level of 99%; that is, we will reject the null hypothesis in favor of the alternative if the p-value is less than 0.01.\n",
    "\n",
    "When testing random variates from the standard uniform distribution, which has a mean of 0.5, we expect the data to be consistent with the null hypothesis most of the time.\n"
   ]
  },
  {
   "cell_type": "code",
   "execution_count": 46,
   "id": "403ca480-bbb4-43be-8838-63d710beeabb",
   "metadata": {},
   "outputs": [
    {
     "data": {
      "text/plain": [
       "Ttest_1sampResult(statistic=-0.04961121437658009, pvalue=0.9606338874910682)"
      ]
     },
     "execution_count": 46,
     "metadata": {},
     "output_type": "execute_result"
    }
   ],
   "source": [
    "# code taken from API reference https://docs.scipy.org/doc/scipy/reference/generated/scipy.stats.ttest_1samp.html version 1.11.2(stable)\n",
    "import numpy as np\n",
    "from scipy import stats\n",
    "from numpy.random import default_rng # import default PC6G4 \n",
    "rng= default_rng(12345)\n",
    "\n",
    "rvs = stats.uniform.rvs(size=50, random_state=rng)\n",
    "stats.ttest_1samp(rvs, popmean=0.5)\n"
   ]
  },
  {
   "cell_type": "code",
   "execution_count": 59,
   "id": "b2dc8a59-3578-4f2f-9f2a-6fe99b8fab8d",
   "metadata": {},
   "outputs": [
    {
     "data": {
      "text/plain": [
       "array([-1.42382504,  1.26372846, -0.87066174, -0.25917323, -0.07534331,\n",
       "       -0.74088465, -1.3677927 ,  0.6488928 ,  0.36105811, -1.95286306,\n",
       "        2.34740965,  0.96849691, -0.75938718,  0.90219827, -0.46695317,\n",
       "       -0.06068952,  0.78884434, -1.25666813,  0.57585751,  1.39897899,\n",
       "        1.32229806, -0.29969852,  0.90291934, -1.62158273, -0.15818926,\n",
       "        0.44948393, -1.34360107, -0.08168759,  1.72473993,  2.61815943,\n",
       "        0.77736134,  0.8286332 , -0.95898831, -1.20938829, -1.41229201,\n",
       "        0.54154683,  0.7519394 , -0.65876032, -1.22867499,  0.25755777,\n",
       "        0.31290292, -0.13081169,  1.26998312, -0.09296246, -0.06615089,\n",
       "       -1.10821447,  0.13595685,  1.34707776,  0.06114402,  0.0709146 ])"
      ]
     },
     "execution_count": 59,
     "metadata": {},
     "output_type": "execute_result"
    }
   ],
   "source": [
    "rvs"
   ]
  },
  {
   "cell_type": "markdown",
   "id": "28ab11e2-10b0-4254-a124-8f534697722d",
   "metadata": {},
   "source": [
    "**Cannot reject the Null Hypothesis**\n",
    "The p-value of 0.96 is not below our threshold of 0.01, so we cannot reject the null hypothesis.\n"
   ]
  },
  {
   "cell_type": "markdown",
   "id": "1d720764-f149-4961-9803-a85f35065ff1",
   "metadata": {},
   "source": [
    "**Create a sample standard normal distribution**\n",
    "\n",
    "When testing data from the standard normal distribution, which has a mean of 0, we would expect the null hypothesis to be rejected. "
   ]
  },
  {
   "cell_type": "code",
   "execution_count": 60,
   "id": "a460ab5b-9ac5-4a90-b485-33d52f0dea37",
   "metadata": {},
   "outputs": [
    {
     "data": {
      "text/plain": [
       "Ttest_1sampResult(statistic=-2.957723078375215, pvalue=0.004759387120102961)"
      ]
     },
     "execution_count": 60,
     "metadata": {},
     "output_type": "execute_result"
    }
   ],
   "source": [
    "from numpy.random import default_rng # import default PC6G4 \n",
    "rng= default_rng(12345)\n",
    "rvs1 = stats.norm.rvs(size=50, random_state=rng)\n",
    "stats.ttest_1samp(rvs1, popmean=0.5)"
   ]
  },
  {
   "cell_type": "code",
   "execution_count": 61,
   "id": "994837c9-4a22-4a07-aa9c-d96adec99a6a",
   "metadata": {},
   "outputs": [
    {
     "data": {
      "text/plain": [
       "array([-1.42382504,  1.26372846, -0.87066174, -0.25917323, -0.07534331,\n",
       "       -0.74088465, -1.3677927 ,  0.6488928 ,  0.36105811, -1.95286306,\n",
       "        2.34740965,  0.96849691, -0.75938718,  0.90219827, -0.46695317,\n",
       "       -0.06068952,  0.78884434, -1.25666813,  0.57585751,  1.39897899,\n",
       "        1.32229806, -0.29969852,  0.90291934, -1.62158273, -0.15818926,\n",
       "        0.44948393, -1.34360107, -0.08168759,  1.72473993,  2.61815943,\n",
       "        0.77736134,  0.8286332 , -0.95898831, -1.20938829, -1.41229201,\n",
       "        0.54154683,  0.7519394 , -0.65876032, -1.22867499,  0.25755777,\n",
       "        0.31290292, -0.13081169,  1.26998312, -0.09296246, -0.06615089,\n",
       "       -1.10821447,  0.13595685,  1.34707776,  0.06114402,  0.0709146 ])"
      ]
     },
     "execution_count": 61,
     "metadata": {},
     "output_type": "execute_result"
    }
   ],
   "source": [
    "rvs1"
   ]
  },
  {
   "cell_type": "markdown",
   "id": "c3dae83d-7b0e-473c-b5b8-95e452a63d10",
   "metadata": {},
   "source": [
    "**Reject the null hypothesis at a 99% confidence level**\n",
    "\n",
    "The p-value of 0.004 is below our threshold of 0.01, so we can reject the null hypothesis, in favor of the default “two-sided” alternative: the mean of the population is not equal to 0.5."
   ]
  },
  {
   "cell_type": "markdown",
   "id": "36fcd202-4285-4fe4-800c-b940576f445e",
   "metadata": {},
   "source": [
    "However, suppose we were to test the null hypothesis against the one-sided alternative that the mean of the population is greater than 0.5. Since the mean of the standard normal is less than 0.5, we would not expect the null hypothesis to be rejected. Unsurprisingly, with a p-value greater than our threshold of 0.01, we would not reject the null hypothesis."
   ]
  },
  {
   "cell_type": "code",
   "execution_count": 62,
   "id": "0aefab7f-eaa8-449e-a13d-1f04e5ce14a3",
   "metadata": {},
   "outputs": [
    {
     "data": {
      "text/plain": [
       "Ttest_1sampResult(statistic=-2.957723078375215, pvalue=0.9976203064399486)"
      ]
     },
     "execution_count": 62,
     "metadata": {},
     "output_type": "execute_result"
    }
   ],
   "source": [
    "stats.ttest_1samp(rvs1\n",
    "                  , popmean=0.5, alternative='greater')"
   ]
  },
  {
   "cell_type": "markdown",
   "id": "a5461441-fe50-43ae-b045-477da4b5cfb4",
   "metadata": {},
   "source": [
    "**Errors in the Null Hypothesis Rejection in One samples T-Tests**\n",
    "\n",
    "Note that when working with a confidence level of 99%, a true null hypothesis will be rejected approximately 1% of the time.\n",
    "\n",
    "Indeed, even though all 100 samples below were drawn from the standard uniform distribution, which does have a population mean of 0.5, we would mistakenly reject the null hypothesis for one of them."
   ]
  },
  {
   "cell_type": "code",
   "execution_count": 80,
   "id": "21331a45-fa9c-4a9d-b3fe-fa799ac8dca4",
   "metadata": {},
   "outputs": [
    {
     "data": {
      "text/plain": [
       "1"
      ]
     },
     "execution_count": 80,
     "metadata": {},
     "output_type": "execute_result"
    }
   ],
   "source": [
    "rvs3 = stats.uniform.rvs(size=(100, 50), random_state=rng)\n",
    "res = stats.ttest_1samp(rvs3, popmean=0.5, axis=1)\n",
    "np.sum(res.pvalue < 0.01)"
   ]
  },
  {
   "cell_type": "code",
   "execution_count": 81,
   "id": "70afb0d0-2fd0-434f-b25f-272642497bf6",
   "metadata": {},
   "outputs": [
    {
     "ename": "AttributeError",
     "evalue": "'Ttest_1sampResult' object has no attribute 'confidence_interval'",
     "output_type": "error",
     "traceback": [
      "\u001b[1;31m---------------------------------------------------------------------------\u001b[0m",
      "\u001b[1;31mAttributeError\u001b[0m                            Traceback (most recent call last)",
      "\u001b[1;32m<ipython-input-81-130456f79c44>\u001b[0m in \u001b[0;36m<module>\u001b[1;34m\u001b[0m\n\u001b[0;32m      2\u001b[0m \u001b[0mrvs4\u001b[0m \u001b[1;33m=\u001b[0m \u001b[0mstats\u001b[0m\u001b[1;33m.\u001b[0m\u001b[0mnorm\u001b[0m\u001b[1;33m.\u001b[0m\u001b[0mrvs\u001b[0m\u001b[1;33m(\u001b[0m\u001b[0msize\u001b[0m\u001b[1;33m=\u001b[0m\u001b[1;36m50\u001b[0m\u001b[1;33m,\u001b[0m \u001b[0mrandom_state\u001b[0m\u001b[1;33m=\u001b[0m\u001b[0mrng\u001b[0m\u001b[1;33m)\u001b[0m\u001b[1;33m\u001b[0m\u001b[1;33m\u001b[0m\u001b[0m\n\u001b[0;32m      3\u001b[0m \u001b[0mres\u001b[0m \u001b[1;33m=\u001b[0m \u001b[0mstats\u001b[0m\u001b[1;33m.\u001b[0m\u001b[0mttest_1samp\u001b[0m\u001b[1;33m(\u001b[0m\u001b[0mrvs4\u001b[0m\u001b[1;33m,\u001b[0m \u001b[0mpopmean\u001b[0m\u001b[1;33m=\u001b[0m\u001b[1;36m0\u001b[0m\u001b[1;33m)\u001b[0m\u001b[1;33m\u001b[0m\u001b[1;33m\u001b[0m\u001b[0m\n\u001b[1;32m----> 4\u001b[1;33m \u001b[0mci\u001b[0m \u001b[1;33m=\u001b[0m \u001b[0mres\u001b[0m\u001b[1;33m.\u001b[0m\u001b[0mconfidence_interval\u001b[0m\u001b[1;33m(\u001b[0m\u001b[0mconfidence_level\u001b[0m\u001b[1;33m=\u001b[0m\u001b[1;36m0.95\u001b[0m\u001b[1;33m)\u001b[0m\u001b[1;33m\u001b[0m\u001b[1;33m\u001b[0m\u001b[0m\n\u001b[0m\u001b[0;32m      5\u001b[0m \u001b[0mci\u001b[0m\u001b[1;33m\u001b[0m\u001b[1;33m\u001b[0m\u001b[0m\n",
      "\u001b[1;31mAttributeError\u001b[0m: 'Ttest_1sampResult' object has no attribute 'confidence_interval'"
     ]
    }
   ],
   "source": [
    "# ttest_1samp can also compute a confidence interval around the population mean.\n",
    "rvs4 = stats.norm.rvs(size=50, random_state=rng)\n",
    "res = stats.ttest_1samp(rvs4, popmean=0)\n",
    "ci = res.confidence_interval(confidence_level=0.95)\n",
    "ci"
   ]
  },
  {
   "cell_type": "code",
   "execution_count": 78,
   "id": "5316ed7d-cb30-4c33-b913-79b89cdea498",
   "metadata": {},
   "outputs": [
    {
     "ename": "NameError",
     "evalue": "name 'ci' is not defined",
     "output_type": "error",
     "traceback": [
      "\u001b[1;31m---------------------------------------------------------------------------\u001b[0m",
      "\u001b[1;31mNameError\u001b[0m                                 Traceback (most recent call last)",
      "\u001b[1;32m<ipython-input-78-e241cb00acfa>\u001b[0m in \u001b[0;36m<module>\u001b[1;34m\u001b[0m\n\u001b[1;32m----> 1\u001b[1;33m \u001b[0mres\u001b[0m \u001b[1;33m=\u001b[0m \u001b[0mstats\u001b[0m\u001b[1;33m.\u001b[0m\u001b[0mttest_1samp\u001b[0m\u001b[1;33m(\u001b[0m\u001b[0mrvs\u001b[0m\u001b[1;33m,\u001b[0m \u001b[0mpopmean\u001b[0m\u001b[1;33m=\u001b[0m\u001b[0mci\u001b[0m\u001b[1;33m.\u001b[0m\u001b[0mlow\u001b[0m\u001b[1;33m)\u001b[0m\u001b[1;33m\u001b[0m\u001b[1;33m\u001b[0m\u001b[0m\n\u001b[0m\u001b[0;32m      2\u001b[0m \u001b[0mnp\u001b[0m\u001b[1;33m.\u001b[0m\u001b[0mtesting\u001b[0m\u001b[1;33m.\u001b[0m\u001b[0massert_allclose\u001b[0m\u001b[1;33m(\u001b[0m\u001b[0mres\u001b[0m\u001b[1;33m.\u001b[0m\u001b[0mpvalue\u001b[0m\u001b[1;33m,\u001b[0m \u001b[1;36m0.05\u001b[0m\u001b[1;33m)\u001b[0m\u001b[1;33m\u001b[0m\u001b[1;33m\u001b[0m\u001b[0m\n\u001b[0;32m      3\u001b[0m \u001b[0mres\u001b[0m \u001b[1;33m=\u001b[0m \u001b[0mstats\u001b[0m\u001b[1;33m.\u001b[0m\u001b[0mttest_1samp\u001b[0m\u001b[1;33m(\u001b[0m\u001b[0mrvs\u001b[0m\u001b[1;33m,\u001b[0m \u001b[0mpopmean\u001b[0m\u001b[1;33m=\u001b[0m\u001b[0mci\u001b[0m\u001b[1;33m.\u001b[0m\u001b[0mhigh\u001b[0m\u001b[1;33m)\u001b[0m\u001b[1;33m\u001b[0m\u001b[1;33m\u001b[0m\u001b[0m\n\u001b[0;32m      4\u001b[0m \u001b[0mnp\u001b[0m\u001b[1;33m.\u001b[0m\u001b[0mtesting\u001b[0m\u001b[1;33m.\u001b[0m\u001b[0massert_allclose\u001b[0m\u001b[1;33m(\u001b[0m\u001b[0mres\u001b[0m\u001b[1;33m.\u001b[0m\u001b[0mpvalue\u001b[0m\u001b[1;33m,\u001b[0m \u001b[1;36m0.05\u001b[0m\u001b[1;33m)\u001b[0m\u001b[1;33m\u001b[0m\u001b[1;33m\u001b[0m\u001b[0m\n",
      "\u001b[1;31mNameError\u001b[0m: name 'ci' is not defined"
     ]
    }
   ],
   "source": [
    "res = stats.ttest_1samp(rvs, popmean=ci.low)\n",
    "np.testing.assert_allclose(res.pvalue, 0.05)\n",
    "res = stats.ttest_1samp(rvs, popmean=ci.high)\n",
    "np.testing.assert_allclose(res.pvalue, 0.05)"
   ]
  },
  {
   "cell_type": "code",
   "execution_count": 83,
   "id": "1ddc65b6-5bae-4004-8e67-e9ee60c88fc7",
   "metadata": {},
   "outputs": [
    {
     "ename": "NameError",
     "evalue": "name 'confidence_interval' is not defined",
     "output_type": "error",
     "traceback": [
      "\u001b[1;31m---------------------------------------------------------------------------\u001b[0m",
      "\u001b[1;31mNameError\u001b[0m                                 Traceback (most recent call last)",
      "\u001b[1;32m<ipython-input-83-977084e944f0>\u001b[0m in \u001b[0;36m<module>\u001b[1;34m\u001b[0m\n\u001b[1;32m----> 1\u001b[1;33m \u001b[0mhelp\u001b[0m\u001b[1;33m(\u001b[0m\u001b[0mconfidence_interval\u001b[0m\u001b[1;33m)\u001b[0m\u001b[1;33m\u001b[0m\u001b[1;33m\u001b[0m\u001b[0m\n\u001b[0m",
      "\u001b[1;31mNameError\u001b[0m: name 'confidence_interval' is not defined"
     ]
    }
   ],
   "source": [
    "help(confidence_interval)"
   ]
  },
  {
   "cell_type": "code",
   "execution_count": null,
   "id": "2f986972-64ea-40e0-a92e-abf59b8432eb",
   "metadata": {},
   "outputs": [],
   "source": []
  },
  {
   "cell_type": "code",
   "execution_count": null,
   "id": "0825ed3d-9021-4dae-82a9-18c0c413d43a",
   "metadata": {},
   "outputs": [],
   "source": []
  },
  {
   "cell_type": "code",
   "execution_count": null,
   "id": "7402c20d-3690-4b43-8d53-14b7ee725061",
   "metadata": {},
   "outputs": [],
   "source": []
  },
  {
   "cell_type": "code",
   "execution_count": null,
   "id": "c7c1e7f3-3552-42c9-950e-3ff468e2f12f",
   "metadata": {},
   "outputs": [],
   "source": [
    "# code adapted from https://www.datacamp.com/tutorial/an-introduction-to-python-t-tests\n",
    "\n",
    "# Population Mean \n",
    "mu = 10\n",
    "\n",
    "# Sample Size\n",
    "N1 = 21\n",
    "\n",
    "# Degrees of freedom  \n",
    "dof = N1 - 1\n",
    "\n",
    "# Generate a random sample with mean = 11 and standard deviation = 1\n",
    "x = np.random.randn(N1) + 11\n",
    "\n",
    "# Using the Stats library, compute t-statistic and p-value\n",
    "t_stat, p_val = stats.ttest_1samp(a=x, popmean = mu)\n",
    "print(\"t-statistic = \" + str(t_stat))  \n",
    "print(\"p-value = \" + str(p_val)) "
   ]
  },
  {
   "cell_type": "markdown",
   "id": "cec12285-4217-47c1-919a-789ef50c4a8c",
   "metadata": {},
   "source": [
    " Code explained:\n",
    " \n",
    "This code imports the necessary libraries, numpy and scipy.stats.\n",
    "• It then sets the population mean to 10 and the sample size to 21.\n",
    "• The degrees of freedom are calculated as the sample size minus one.\n",
    "• Next, a random sample of size 21 is generated using numpy's random.randn function, with a mean of 11 and standard deviation of 1.\n",
    "• Finally, the t-statistic and p-value are calculated using the stats.ttest_1samp function from the scipy.stats library.\n",
    "• The t-statistic measures the difference between the sample mean and the population mean in units of the standard error, while the p-value represents the probability of obtaining a t-statistic as extreme or more extreme than the observed value, assuming the null hypothesis (that the population mean is equal to the sample mean) is true.\n",
    "• The results are printed to the console using the print function. "
   ]
  },
  {
   "cell_type": "markdown",
   "id": "8f101652-b74a-41e6-a227-4badfa33005a",
   "metadata": {},
   "source": [
    "Lets me do a t test from my working enviroment.\n",
    "I want to know if different calipers are reading the same disc diffusion zone when measuring antibiotic sensitivity.\n"
   ]
  },
  {
   "cell_type": "code",
   "execution_count": null,
   "id": "c458deb5-a3ad-40ed-b4cb-079ffddfd13c",
   "metadata": {},
   "outputs": [],
   "source": [
    "df = pd.read_csv(\"Data/ampicillin.csv\"\n",
    "                )\n",
    "print(df.head())"
   ]
  },
  {
   "cell_type": "code",
   "execution_count": null,
   "id": "d0fe5335-be8c-45b8-a84a-803692d66bbd",
   "metadata": {},
   "outputs": [],
   "source": [
    "df.describe\n",
    "df\n"
   ]
  },
  {
   "cell_type": "code",
   "execution_count": null,
   "id": "cf37c22e-a108-45ac-a59c-20fddd0a96b3",
   "metadata": {},
   "outputs": [],
   "source": []
  },
  {
   "cell_type": "code",
   "execution_count": null,
   "id": "db1e813c-29c3-4134-934b-08e766c31480",
   "metadata": {},
   "outputs": [],
   "source": []
  },
  {
   "cell_type": "code",
   "execution_count": null,
   "id": "0662fd8d-eb76-4ea5-9127-960319873c9a",
   "metadata": {},
   "outputs": [],
   "source": []
  },
  {
   "cell_type": "code",
   "execution_count": null,
   "id": "a1813699-8355-42a5-9aec-b6e101811ecd",
   "metadata": {},
   "outputs": [],
   "source": []
  },
  {
   "cell_type": "markdown",
   "id": "3e7344b1-9856-4d17-990c-18daac52a164",
   "metadata": {},
   "source": [
    "# References:\n",
    "\n",
    "1. https://statisticsbyjim.com/hypothesis-testing/paired-t-test/\n",
    "\n",
    "2. A Statistical Biography of William Sealy Gosset https://gwern.net/doc/statistics/decision/1990-pearson-studentastatisticalbiographyofwilliamsealygosset.pdf\n",
    "\n",
    "3. The strange origins of the Student’s t-test https://www.physoc.org/magazine-articles/the-strange-origins-of-the-students-t-test/\n",
    "\n",
    "3. Student's t-test https://www.youtube.com/watch?v=pTmLQvMM-1M\n",
    "\n",
    "4. All About t-Tests (one sample, independent, & paired sample) https://www.youtube.com/watch?v=rK3mXS3gHyI&t=177s\n",
    "\n",
    "5. How to use Python to Perform a Paired Sample T-test https://www.marsja.se/how-to-use-python-to-perform-a-paired-sample-t-test/\n",
    "\n",
    "6. How to Conduct a Two Sample T-Test in Python https://www.geeksforgeeks.org/how-to-conduct-a-two-sample-t-test-in-python/\n",
    "\n",
    "7. Python - Paired Samples t-Test https://www.youtube.com/watch?v=DZyDbEzaiK0\n",
    "\n",
    "8. Learn How to Perform T-test using Python https://www.youtube.com/watch?v=ZR6bf8_s-hw\n",
    "\n",
    "9. How to use Python to do Paired Sample T-test - SciPy, Pandas, and Pingouin https://www.bing.com/videos/search?q=scipy+t-tests&&view=detail&mid=2A20DA19C6DD858D6D302A20DA19C6DD858D6D30&&FORM=VRDGAR&ru=%2Fvideos%2Fsearch%3Fq%3Dscipy%2Bt-tests%26FORM%3DHDRSC6\n",
    "\n",
    "10. Basic Statistics in Python: t tests with SciPy https://neuraldatascience.io/5-eda/ttests.html\n",
    "\n",
    "11. Taking on T-Tests with SciPy https://medium.com/analytics-vidhya/taking-on-t-tests-with-scipy-b05eaaa0ee52\n",
    "\n",
    "12. PYTHON FOR DATA SCIENCE https://www.pythonfordatascience.org/independent-samples-t-test-python/\n",
    "\n",
    "13. SciPy – Statistical Significance Tests https://www.geeksforgeeks.org/scipy-statistical-significance-tests/\n",
    "\n",
    "14. scipy.stats.ttest_ind https://docs.scipy.org/doc/scipy/reference/generated/scipy.stats.ttest_ind.html\n",
    "\n",
    "15. SciPy Statistical Significance Tests \n",
    "\n",
    "16. Practice t-tests with these free online datasets https://stringfestanalytics.com/t-test-dataset-practice-guide/\n",
    "\n",
    "17. Student's t-test (Paired and Unpaired) - A Level Biology https://www.youtube.com/watch?v=k_OhNaQCSTc\n",
    "\n",
    "18. T Test (Students T Test) – Understanding the math and how it works https://www.machinelearningplus.com/statistics/t-test-students-understanding-the-math-and-how-it-works/\n",
    "\n",
    "19. How to Do a T-Test for Beginners https://www.youtube.com/watch?v=qvPWQ-e03tQ (really good for just the basics on paired and tailed)\n",
    "\n",
    "20. Choosing a Statistical Test https://www.youtube.com/watch?v=UaptUhOushw (choosing statistical tests for healthcare data)\n",
    "\n",
    "21. Data Cleaning in Pandas | Python Pandas Tutorials https://www.youtube.com/watch?v=bDhvCp3_lYw\n",
    "\n",
    "22. Independent t-Test [unpaired t-Test] https://www.youtube.com/watch?v=ujLHJKrgx1A (good for explaination of different types of the t-tests)\n",
    "\n",
    "23. Python for Data Analysis: Hypothesis Testing and T-Tests https://www.youtube.com/watch?v=CIbJSX-biu0\n",
    "\n",
    "24. Python for Data 24: Hypothesis Testing https://www.kaggle.com/code/hamelg/python-for-data-24-hypothesis-testing/notebook\n",
    "\n",
    "25. Learn How to Perform T-test using Python https://www.youtube.com/watch?v=ZR6bf8_s-hw&t=37s\n",
    "\n",
    "https://github.com/bhattbhavesh91/GA_Sessions/blob/master/t_test_independence/T_Test_Sales.ipynb\n",
    "\n",
    "26. The Ultimate Markdown Guide (for Jupyter Notebook) https://medium.com/analytics-vidhya/the-ultimate-markdown-guide-for-jupyter-notebook-d5e5abf728fd\n",
    "\n",
    "\n",
    "\n",
    "\n",
    "\n",
    "\n",
    "\n",
    "\n"
   ]
  }
 ],
 "metadata": {
  "kernelspec": {
   "display_name": "Python 3",
   "language": "python",
   "name": "python3"
  },
  "language_info": {
   "codemirror_mode": {
    "name": "ipython",
    "version": 3
   },
   "file_extension": ".py",
   "mimetype": "text/x-python",
   "name": "python",
   "nbconvert_exporter": "python",
   "pygments_lexer": "ipython3",
   "version": "3.8.8"
  }
 },
 "nbformat": 4,
 "nbformat_minor": 5
}
